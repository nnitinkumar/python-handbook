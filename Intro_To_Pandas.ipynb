{
  "cells": [
    {
      "cell_type": "code",
      "execution_count": 1,
      "metadata": {
        "id": "Tz-YEfuO0bUE"
      },
      "outputs": [],
      "source": [
        "#create a dataframe with 3 cols \n",
        "\n",
        "import pandas as pd\n",
        "\n",
        "\n",
        "data={'Name':['nit', 'nit','nit', 'ma', 'ma','ma'], \n",
        "               'Date':['1/01/2022','2/01/2022','3/01/2022','4/01/2022','5/01/2022','6/01/2022'], \n",
        "               'InsuranceBought':['life','life','motor','life','health','life']}\n",
        "\n",
        "        "
      ]
    },
    {
      "cell_type": "code",
      "execution_count": 2,
      "metadata": {
        "colab": {
          "base_uri": "https://localhost:8080/",
          "height": 172
        },
        "id": "qbpAiWSp3I11",
        "outputId": "b3557ccb-81cc-4080-a8cf-707de3d7ed48"
      },
      "outputs": [],
      "source": [
        "aa = pd.DataFrame(data)\n"
      ]
    },
    {
      "cell_type": "code",
      "execution_count": 3,
      "metadata": {},
      "outputs": [
        {
          "data": {
            "text/html": [
              "<div>\n",
              "<style scoped>\n",
              "    .dataframe tbody tr th:only-of-type {\n",
              "        vertical-align: middle;\n",
              "    }\n",
              "\n",
              "    .dataframe tbody tr th {\n",
              "        vertical-align: top;\n",
              "    }\n",
              "\n",
              "    .dataframe thead th {\n",
              "        text-align: right;\n",
              "    }\n",
              "</style>\n",
              "<table border=\"1\" class=\"dataframe\">\n",
              "  <thead>\n",
              "    <tr style=\"text-align: right;\">\n",
              "      <th></th>\n",
              "      <th>Name</th>\n",
              "      <th>Date</th>\n",
              "      <th>InsuranceBought</th>\n",
              "    </tr>\n",
              "  </thead>\n",
              "  <tbody>\n",
              "    <tr>\n",
              "      <th>0</th>\n",
              "      <td>nit</td>\n",
              "      <td>1/01/2022</td>\n",
              "      <td>life</td>\n",
              "    </tr>\n",
              "    <tr>\n",
              "      <th>1</th>\n",
              "      <td>nit</td>\n",
              "      <td>2/01/2022</td>\n",
              "      <td>life</td>\n",
              "    </tr>\n",
              "    <tr>\n",
              "      <th>2</th>\n",
              "      <td>nit</td>\n",
              "      <td>3/01/2022</td>\n",
              "      <td>motor</td>\n",
              "    </tr>\n",
              "    <tr>\n",
              "      <th>3</th>\n",
              "      <td>ma</td>\n",
              "      <td>4/01/2022</td>\n",
              "      <td>life</td>\n",
              "    </tr>\n",
              "    <tr>\n",
              "      <th>4</th>\n",
              "      <td>ma</td>\n",
              "      <td>5/01/2022</td>\n",
              "      <td>health</td>\n",
              "    </tr>\n",
              "    <tr>\n",
              "      <th>5</th>\n",
              "      <td>ma</td>\n",
              "      <td>6/01/2022</td>\n",
              "      <td>life</td>\n",
              "    </tr>\n",
              "  </tbody>\n",
              "</table>\n",
              "</div>"
            ],
            "text/plain": [
              "  Name       Date InsuranceBought\n",
              "0  nit  1/01/2022            life\n",
              "1  nit  2/01/2022            life\n",
              "2  nit  3/01/2022           motor\n",
              "3   ma  4/01/2022            life\n",
              "4   ma  5/01/2022          health\n",
              "5   ma  6/01/2022            life"
            ]
          },
          "execution_count": 3,
          "metadata": {},
          "output_type": "execute_result"
        }
      ],
      "source": [
        "aa "
      ]
    },
    {
      "cell_type": "code",
      "execution_count": null,
      "metadata": {
        "id": "HwblXlbp472P"
      },
      "outputs": [],
      "source": [
        "#Dictionary:\n",
        "#1. Used to store key value pairs\n",
        "#2. A dictionary is a collection which is ordered*, changeable and do not allow duplicates\n",
        "#3. Written with curly brackets"
      ]
    },
    {
      "cell_type": "code",
      "execution_count": null,
      "metadata": {
        "id": "COJDZfUK2kfV"
      },
      "outputs": [],
      "source": [
        "dictionary = {'Nitin':100, 'Mani':100}"
      ]
    }
  ],
  "metadata": {
    "colab": {
      "name": "Intro To Pandas.ipynb",
      "provenance": []
    },
    "kernelspec": {
      "display_name": "Python 3",
      "name": "python3"
    },
    "language_info": {
      "codemirror_mode": {
        "name": "ipython",
        "version": 3
      },
      "file_extension": ".py",
      "mimetype": "text/x-python",
      "name": "python",
      "nbconvert_exporter": "python",
      "pygments_lexer": "ipython3",
      "version": "3.10.1"
    }
  },
  "nbformat": 4,
  "nbformat_minor": 0
}

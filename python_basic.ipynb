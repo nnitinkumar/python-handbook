{
 "cells": [
  {
   "cell_type": "code",
   "execution_count": null,
   "id": "62d5ef7d",
   "metadata": {},
   "outputs": [],
   "source": [
    "''''Q: Create a list by picking an odd-index items from the first  list\n",
    "and even index items from the second''''\n",
    "\n",
    "#To access a range of items in a list, use the slicing operator :.\n",
    "#With this operator, you can specify where to start, end, and steps\n",
    "#E.g. list1[start : stop : step]\n",
    "\n",
    "\n",
    "list1 = [3,6,9,12,15,18,21]\n",
    "list2 = [4,8,12,16,20,24,28]\n",
    "\n",
    "res = list()\n",
    "odd_elements = list1[1::2]\n",
    "even_elements = list2[0::2]\n",
    "\n",
    "res.extend(odd_elements)\n",
    "res.extend(even_elements)\n",
    "print(res)"
   ]
  },
  {
   "cell_type": "code",
   "execution_count": null,
   "id": "cd4c7c19",
   "metadata": {},
   "outputs": [],
   "source": [
    "'''Q:Write a program to remove the item present at index 4 and add it to \n",
    "it to the 2nd position and at the end of the list\n",
    "'''\n",
    "#given list\n",
    "sample_list = [1,2,3,4,5,6,7,8]\n",
    "\n",
    "#Use pop function to remove the 4th index element\n",
    "element = sample_list.pop(4)\n",
    "\n",
    "#Use insert option to add the element in between\n",
    "sample_list.insert(2, element)\n",
    "\n",
    "#Use append to add the element at the end\n",
    "sample_list.append(element)"
   ]
  },
  {
   "cell_type": "code",
   "execution_count": 1,
   "id": "92e23a9e",
   "metadata": {},
   "outputs": [
    {
     "name": "stdout",
     "output_type": "stream",
     "text": [
      "Chunk  0 [11, 45, 8]\n",
      "After reversing it  [8, 45, 11]\n",
      "Chunk  1 [23, 14, 12]\n",
      "After reversing it  [12, 14, 23]\n",
      "Chunk  2 [78, 45, 89]\n",
      "After reversing it  [89, 45, 78]\n"
     ]
    }
   ],
   "source": [
    "'''Q: Slice list into 3 equal chunks and reverse each chunk'''\n",
    "\n",
    "#Given list\n",
    "sample_list = [11, 45, 8, 23, 14, 12, 78, 45, 89]\n",
    "\n",
    "#Length of the list \n",
    "length = len(sample_list)\n",
    "\n",
    "#Divide the length by the given 3 equal chunks to find size\n",
    "chunk_size = int(length/3)\n",
    "\n",
    "#Decide from which index it should start\n",
    "start = 0\n",
    "\n",
    "#Slice function is getting used, to declare the end\n",
    "end = chunk_size\n",
    "\n",
    "#Run loop 3 times\n",
    "for i in range(3):\n",
    "    #Get indexes\n",
    "    indexes = slice(start, end)\n",
    "    \n",
    "    #get chunk\n",
    "    list_chunk = sample_list[indexes]\n",
    "    print(\"Chunk \", i, list_chunk)\n",
    "    \n",
    "    #reverse chunk\n",
    "    print(\"After reversing it \", list(reversed(list_chunk)))\n",
    "    \n",
    "    start = end\n",
    "    end += chunk_size\n",
    "        "
   ]
  },
  {
   "cell_type": "code",
   "execution_count": 1,
   "id": "540dac96",
   "metadata": {},
   "outputs": [
    {
     "name": "stdout",
     "output_type": "stream",
     "text": [
      "ramuK\n"
     ]
    }
   ],
   "source": [
    "'''Reverse a string in python using loop'''\n",
    "\n",
    "# Python String library DOES NOT support in built reverse()\n",
    "\n",
    "# Method 1: Reversing a string using a loop\n",
    "\n",
    "def reverse(s):\n",
    "    str = \"\"\n",
    "    for i in s:\n",
    "        str = i+ str\n",
    "    return str\n",
    "\n",
    "\n",
    "s = \"Kumar\"\n",
    "print (reverse(s))\n",
    "\n",
    "# Explanation : We call a function to reverse a string, which iterated \n",
    "# to every element and intelligently join each character in the begining"
   ]
  },
  {
   "cell_type": "code",
   "execution_count": 2,
   "id": "e58fa9b0",
   "metadata": {},
   "outputs": [
    {
     "name": "stdout",
     "output_type": "stream",
     "text": [
      "ramuK\n"
     ]
    }
   ],
   "source": [
    "'''Reverse a string using Recursion'''\n",
    "\n",
    "# Method 2: Using Recursion\n",
    "\n",
    "def reverse(s):\n",
    "    if len(s) == 0:\n",
    "        return s\n",
    "    else:\n",
    "        return reverse(s[1:]) + s[0]\n",
    "    \n",
    "s = \"Kumar\"\n",
    "print(reverse(s))\n",
    "\n",
    "'''\n",
    "Explanation : String is passed as an argument to a recursive function\n",
    "to reverse the string. In the function, the base condition is that\n",
    "if the length of the string is equal to 0, then the string is returned.\n",
    "If not equal to 0, the reverse function is recursively called to\n",
    "slice the part of the string except the first character and concatenate\n",
    "the first character to the end of the sliced string\n",
    "'''"
   ]
  },
  {
   "cell_type": "code",
   "execution_count": 11,
   "id": "0ed46e69",
   "metadata": {},
   "outputs": [
    {
     "name": "stdout",
     "output_type": "stream",
     "text": [
      "Kumar\n",
      "ramuK\n"
     ]
    }
   ],
   "source": [
    "'''Reverse a string using Stack'''\n",
    "\n",
    "# Method 3 : Using stack\n",
    "\n",
    "#function to create an empty stack, initializes size of stack as 0\n",
    "\n",
    "def createStack():\n",
    "    stack = []\n",
    "    return stack\n",
    "\n",
    "#function to determine the size of the stack\n",
    "def size(stack):\n",
    "    return len(stack)\n",
    "\n",
    "#stack is empty if the size is 0\n",
    "def isEmpty(stack):\n",
    "    if size(stack) == 0:\n",
    "        return true\n",
    "\n",
    "#function to add an item to stack, it increases size by 1\n",
    "def push(stack, item):\n",
    "    stack.append(item)\n",
    "    \n",
    "#function to remove an item from stack, it decreases size by 1\n",
    "def pop(stack):\n",
    "    if isEmpty(stack): return\n",
    "    return stack.pop()\n",
    "\n",
    "#a stack based function to reverse a string\n",
    "def reverse(string):\n",
    "    n = len(string)\n",
    "    \n",
    "    #create an empty stack\n",
    "    stack = createStack()\n",
    "    \n",
    "    #push all characters of string to stack\n",
    "    for i in range(0,n,1):\n",
    "        push(stack, string[i])\n",
    "        \n",
    "    string = \"\"\n",
    "    \n",
    "    for i in range(0,n,1):\n",
    "        string+=pop(stack)\n",
    "        \n",
    "    return string\n",
    "\n",
    "#Driver code\n",
    "s = \"Kumar\"\n",
    "print(s)\n",
    "print(reverse(s))\n",
    "\n",
    "\n",
    "'''\n",
    "An empty stack is created. One by one characters of strings are pushed\n",
    "to stack. One by one all characters from stack are popped, and put \n",
    "them back to string\n",
    "'''"
   ]
  },
  {
   "cell_type": "code",
   "execution_count": 1,
   "id": "59cd92a7",
   "metadata": {},
   "outputs": [
    {
     "name": "stdout",
     "output_type": "stream",
     "text": [
      "I ma gniog ot edoc\n"
     ]
    }
   ],
   "source": [
    "'''Given a long sentence, reverse each word of the sentence individually\n",
    "in the sentence itself'''\n",
    "\n",
    "\n",
    "#Approach:\n",
    "#1. first split the sentence into list of words\n",
    "#2. reverse each word of the string in the list individually\n",
    "#3. join the words in the list to form a new sentence\n",
    "\n",
    "'''Given a long sentence, reverse each word of the sentence individually\n",
    "in the sentence itself'''\n",
    "\n",
    "\n",
    "#Function to reverse words\n",
    "def reverseWordSentence(Sentence):\n",
    "    \n",
    "    #Splitting the sentence into list of words\n",
    "    words = Sentence.split(\" \")\n",
    "    \n",
    "    #Reversing each word and creating a new list of words\n",
    "    #List comprehension technique\n",
    "    newWords = [word[::-1] for word in words]\n",
    "    \n",
    "    #Joining the new list of words \n",
    "    newSentence = \" \".join(newWords)\n",
    "    \n",
    "    return newSentence\n",
    "\n",
    "#Driver's code\n",
    "Sentence = \"I am going to code\"\n",
    "print(reverseWordSentence(Sentence))"
   ]
  },
  {
   "cell_type": "code",
   "execution_count": 1,
   "id": "a57fa06d",
   "metadata": {},
   "outputs": [
    {
     "name": "stdout",
     "output_type": "stream",
     "text": [
      "5\n"
     ]
    }
   ],
   "source": [
    "'''Find the length of a string without using inbuilt function\n",
    "'''\n",
    "\n",
    "def string_length(str1):\n",
    "    count = 0\n",
    "    for char in str1:\n",
    "        count += 1\n",
    "    return count\n",
    "print(string_length('Nitin'))\n",
    "    "
   ]
  },
  {
   "cell_type": "code",
   "execution_count": 4,
   "id": "ec02734f",
   "metadata": {},
   "outputs": [
    {
     "name": "stdout",
     "output_type": "stream",
     "text": [
      "Enter a number: 3\n",
      "Odd\n"
     ]
    }
   ],
   "source": [
    "'''Program to check even or odd\n",
    "'''\n",
    "\n",
    "number = input(\"Enter a number: \")\n",
    "\n",
    "x = int(number)%2\n",
    "if x == 0:\n",
    "    print(\"The number is even\")\n",
    "else:\n",
    "    print(\"The number is odd\")"
   ]
  },
  {
   "cell_type": "code",
   "execution_count": 6,
   "id": "2ad922f7",
   "metadata": {},
   "outputs": [
    {
     "name": "stdout",
     "output_type": "stream",
     "text": [
      "Enter the count of numbers: 2\n",
      "Enter an integer: 2\n",
      "Enter an integer: 2\n",
      "The avg is:  2.0\n"
     ]
    }
   ],
   "source": [
    "'''Find out average of a set of integers\n",
    "'''\n",
    "\n",
    "count = int(input(\"Enter the count of numbers: \"))\n",
    "i = 0\n",
    "sum = 0\n",
    "for i in range(count):\n",
    "    x = int(input(\"Enter an integer: \"))\n",
    "    sum = sum + x\n",
    "avg = sum/count\n",
    "print(\"The avg is: \", avg)\n",
    "\n"
   ]
  },
  {
   "cell_type": "code",
   "execution_count": 9,
   "id": "855317eb",
   "metadata": {},
   "outputs": [
    {
     "name": "stdout",
     "output_type": "stream",
     "text": [
      "Enter an integer: 35\n",
      "35 is a multiple of both 5 and 7\n"
     ]
    }
   ],
   "source": [
    "'''Find if an integer is a multiple of both 5 and 7\n",
    "'''\n",
    "\n",
    "\n",
    "number = int(input(\"Enter an integer: \"))\n",
    "\n",
    "if((number%5==0) and (number%7==0)):\n",
    "    print(number, \"is a multiple of both 5 and 7\")\n",
    "else:\n",
    "    print(number, \"is not multiple of both 5 and 7\")\n",
    "    "
   ]
  },
  {
   "cell_type": "code",
   "execution_count": 12,
   "id": "15fc8fea",
   "metadata": {},
   "outputs": [
    {
     "name": "stdout",
     "output_type": "stream",
     "text": [
      "Enter an integer: 102\n",
      "201\n"
     ]
    }
   ],
   "source": [
    "'''Python program to display the given integer in reverse manner\n",
    "'''\n",
    "\n",
    "number = int(input(\"Enter an integer: \"))\n",
    "reverse = 0\n",
    "\n",
    "while(number!=0):\n",
    "    digit = number%10\n",
    "    reverse = (reverse*10) + digit\n",
    "    number = number//10\n",
    "print(reverse)"
   ]
  }
 ],
 "metadata": {
  "kernelspec": {
   "display_name": "Python 3 (ipykernel)",
   "language": "python",
   "name": "python3"
  },
  "language_info": {
   "codemirror_mode": {
    "name": "ipython",
    "version": 3
   },
   "file_extension": ".py",
   "mimetype": "text/x-python",
   "name": "python",
   "nbconvert_exporter": "python",
   "pygments_lexer": "ipython3",
   "version": "3.10.1"
  }
 },
 "nbformat": 4,
 "nbformat_minor": 5
}
